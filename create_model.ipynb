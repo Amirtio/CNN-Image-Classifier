{
  "cells": [
    {
      "cell_type": "code",
      "execution_count": null,
      "metadata": {
        "id": "eZCzjkGMT7jh"
      },
      "outputs": [],
      "source": [
        "import tensorflow as tf\n",
        "import numpy as np\n",
        "from tensorflow.keras.preprocessing.image import ImageDataGenerator\n",
        "from tensorflow.keras.models import Sequential\n",
        "from tensorflow.keras.layers import Conv2D, MaxPooling2D, Flatten, Dense, Dropout\n",
        "from tensorflow.keras.optimizers import Adam\n",
        "import matplotlib.pyplot as plt\n",
        "import kagglehub"
      ]
    },
    {
      "cell_type": "code",
      "execution_count": null,
      "metadata": {
        "colab": {
          "base_uri": "https://localhost:8080/"
        },
        "id": "0LhJ940XUCPg",
        "outputId": "af4cfe66-8605-4cc4-8784-523174abfafd"
      },
      "outputs": [
        {
          "name": "stdout",
          "output_type": "stream",
          "text": [
            "Dataset URL: https://www.kaggle.com/datasets/balraj98/apple2orange-dataset\n",
            "License(s): other\n",
            "apple2orange-dataset.zip: Skipping, found more recently modified local copy (use --force to force download)\n"
          ]
        }
      ],
      "source": [
        "!kaggle datasets download -d balraj98/apple2orange-dataset"
      ]
    },
    {
      "cell_type": "code",
      "execution_count": null,
      "metadata": {
        "colab": {
          "base_uri": "https://localhost:8080/"
        },
        "id": "eagSj2DYXyB_",
        "outputId": "cf34445f-4388-4d8c-abf2-ae17e6629aa5"
      },
      "outputs": [
        {
          "name": "stdout",
          "output_type": "stream",
          "text": [
            "Archive:  apple2orange-dataset.zip\n",
            "replace apple2orange-dataset/metadata.csv? [y]es, [n]o, [A]ll, [N]one, [r]ename: "
          ]
        }
      ],
      "source": [
        "!unzip apple2orange-dataset.zip -d apple2orange-dataset"
      ]
    },
    {
      "cell_type": "code",
      "execution_count": null,
      "metadata": {
        "colab": {
          "base_uri": "https://localhost:8080/"
        },
        "id": "u3Ywmt1MaXJ_",
        "outputId": "cb06b638-f639-417f-f685-68cca490dcce"
      },
      "outputs": [
        {
          "name": "stdout",
          "output_type": "stream",
          "text": [
            "Found 2014 files belonging to 2 classes.\n"
          ]
        }
      ],
      "source": [
        "train_dataset = tf.keras.preprocessing.image_dataset_from_directory(\"/content/apple2orange-dataset/train\"\n",
        " ,image_size=(32, 32),batch_size=32)"
      ]
    },
    {
      "cell_type": "code",
      "execution_count": null,
      "metadata": {
        "colab": {
          "base_uri": "https://localhost:8080/"
        },
        "id": "zY9DLj2bUM24",
        "outputId": "493499e2-18fe-47d7-b65c-b04fce9c63cd"
      },
      "outputs": [
        {
          "name": "stdout",
          "output_type": "stream",
          "text": [
            "Found 514 files belonging to 2 classes.\n"
          ]
        }
      ],
      "source": [
        "test_dataset = tf.keras.preprocessing.image_dataset_from_directory(\"/content/apple2orange-dataset/test\"\n",
        "                                                                   ,image_size=(32, 32),batch_size=32)"
      ]
    },
    {
      "cell_type": "code",
      "execution_count": null,
      "metadata": {
        "id": "Hkw_ZgRlUvWI"
      },
      "outputs": [],
      "source": [
        "def create_model():\n",
        "  model = tf.keras.models.Sequential()\n",
        "\n",
        "  model.add(tf.keras.layers.Conv2D(32,(5,5),activation ='relu',kernel_initializer='he_uniform',padding='same',input_shape =(32,32,3)))\n",
        "  model.add(tf.keras.layers.Conv2D(32,(3,3),activation ='relu',kernel_initializer='he_uniform',padding='same'))\n",
        "  model.add(tf.keras.layers.MaxPooling2D((2,2)))\n",
        "  model.add(tf.keras.layers.Dropout(0.2))\n",
        "\n",
        "  model.add(tf.keras.layers.Conv2D(64,(3,3),activation ='relu',kernel_initializer='he_uniform',padding='same'))\n",
        "  model.add(tf.keras.layers.Conv2D(64,(3,3),activation ='relu',kernel_initializer='he_uniform',padding='same'))\n",
        "  model.add(tf.keras.layers.MaxPooling2D((2,2)))\n",
        "  model.add(tf.keras.layers.Dropout(0.2))\n",
        "\n",
        "  model.add(tf.keras.layers.Conv2D(128,(3,3),activation ='relu',kernel_initializer='he_uniform',padding='same'))\n",
        "  model.add(tf.keras.layers.Conv2D(128,(3,3),activation ='relu',kernel_initializer='he_uniform',padding='same'))\n",
        "  model.add(tf.keras.layers.MaxPooling2D((2,2)))\n",
        "  model.add(tf.keras.layers.Dropout(0.2))\n",
        "\n",
        "  model.add(tf.keras.layers.Flatten())\n",
        "\n",
        "  model.add(tf.keras.layers.Dense(128,activation='relu',kernel_initializer='he_uniform'))\n",
        "  model.add(tf.keras.layers.Dropout(0.2))\n",
        "\n",
        "  model.add(tf.keras.layers.Dense(128,activation='relu',kernel_initializer='he_uniform'))\n",
        "\n",
        "  model.add(tf.keras.layers.Dense(1,activation='sigmoid'))\n",
        "\n",
        "  return model"
      ]
    },
    {
      "cell_type": "code",
      "execution_count": null,
      "metadata": {
        "colab": {
          "base_uri": "https://localhost:8080/"
        },
        "id": "6oZZXOUSVwgA",
        "outputId": "28771d95-e198-437a-f9b8-1427b918c8b8"
      },
      "outputs": [
        {
          "name": "stderr",
          "output_type": "stream",
          "text": [
            "/usr/local/lib/python3.11/dist-packages/keras/src/layers/convolutional/base_conv.py:107: UserWarning: Do not pass an `input_shape`/`input_dim` argument to a layer. When using Sequential models, prefer using an `Input(shape)` object as the first layer in the model instead.\n",
            "  super().__init__(activity_regularizer=activity_regularizer, **kwargs)\n"
          ]
        }
      ],
      "source": [
        "opt = tf.keras.optimizers.SGD(learning_rate=0.001,momentum=0.9)\n",
        "\n",
        "model = create_model()\n",
        "\n",
        "model.compile(optimizer=opt,loss='binary_crossentropy',metrics=['accuracy'])"
      ]
    },
    {
      "cell_type": "code",
      "execution_count": null,
      "metadata": {
        "id": "G-PSUgPaV4dm"
      },
      "outputs": [],
      "source": [
        "def dataset_to_numpy(dataset):\n",
        "    images, labels = [], []\n",
        "    for img_batch, label_batch in dataset:\n",
        "        images.append(img_batch.numpy())\n",
        "        labels.append(label_batch.numpy())\n",
        "    return (\n",
        "        np.concatenate(images, axis=0),\n",
        "        np.concatenate(labels, axis=0)\n",
        "    )"
      ]
    },
    {
      "cell_type": "code",
      "execution_count": null,
      "metadata": {
        "id": "mkEYv2XsWUQO"
      },
      "outputs": [],
      "source": [
        "X_train, y_train = dataset_to_numpy(train_dataset)\n",
        "X_test, y_test = dataset_to_numpy(test_dataset)"
      ]
    },
    {
      "cell_type": "code",
      "execution_count": null,
      "metadata": {
        "id": "H-9oyAg_WjDP"
      },
      "outputs": [],
      "source": [
        "X_train = X_train / 255.0\n",
        "X_test = X_test / 255.0\n"
      ]
    },
    {
      "cell_type": "code",
      "execution_count": null,
      "metadata": {
        "colab": {
          "base_uri": "https://localhost:8080/"
        },
        "id": "TQ98Apu4Wtz2",
        "outputId": "f49ceb53-62a5-4064-ad1c-58f327348468"
      },
      "outputs": [
        {
          "name": "stdout",
          "output_type": "stream",
          "text": [
            "Epoch 1/10\n",
            "\u001b[1m63/63\u001b[0m \u001b[32m━━━━━━━━━━━━━━━━━━━━\u001b[0m\u001b[37m\u001b[0m \u001b[1m15s\u001b[0m 108ms/step - accuracy: 0.5229 - loss: 0.7350 - val_accuracy: 0.6342 - val_loss: 0.6278\n",
            "Epoch 2/10\n",
            "\u001b[1m63/63\u001b[0m \u001b[32m━━━━━━━━━━━━━━━━━━━━\u001b[0m\u001b[37m\u001b[0m \u001b[1m0s\u001b[0m 6ms/step - accuracy: 0.7029 - loss: 0.5666 - val_accuracy: 0.8463 - val_loss: 0.3502\n",
            "Epoch 3/10\n",
            "\u001b[1m63/63\u001b[0m \u001b[32m━━━━━━━━━━━━━━━━━━━━\u001b[0m\u001b[37m\u001b[0m \u001b[1m0s\u001b[0m 6ms/step - accuracy: 0.8507 - loss: 0.3644 - val_accuracy: 0.8366 - val_loss: 0.3570\n",
            "Epoch 4/10\n",
            "\u001b[1m63/63\u001b[0m \u001b[32m━━━━━━━━━━━━━━━━━━━━\u001b[0m\u001b[37m\u001b[0m \u001b[1m0s\u001b[0m 6ms/step - accuracy: 0.8752 - loss: 0.3155 - val_accuracy: 0.8696 - val_loss: 0.3045\n",
            "Epoch 5/10\n",
            "\u001b[1m63/63\u001b[0m \u001b[32m━━━━━━━━━━━━━━━━━━━━\u001b[0m\u001b[37m\u001b[0m \u001b[1m1s\u001b[0m 5ms/step - accuracy: 0.8786 - loss: 0.2912 - val_accuracy: 0.8969 - val_loss: 0.2620\n",
            "Epoch 6/10\n",
            "\u001b[1m63/63\u001b[0m \u001b[32m━━━━━━━━━━━━━━━━━━━━\u001b[0m\u001b[37m\u001b[0m \u001b[1m1s\u001b[0m 5ms/step - accuracy: 0.8990 - loss: 0.2630 - val_accuracy: 0.8735 - val_loss: 0.2924\n",
            "Epoch 7/10\n",
            "\u001b[1m63/63\u001b[0m \u001b[32m━━━━━━━━━━━━━━━━━━━━\u001b[0m\u001b[37m\u001b[0m \u001b[1m1s\u001b[0m 5ms/step - accuracy: 0.8979 - loss: 0.2694 - val_accuracy: 0.9144 - val_loss: 0.2427\n",
            "Epoch 8/10\n",
            "\u001b[1m63/63\u001b[0m \u001b[32m━━━━━━━━━━━━━━━━━━━━\u001b[0m\u001b[37m\u001b[0m \u001b[1m0s\u001b[0m 5ms/step - accuracy: 0.9169 - loss: 0.2343 - val_accuracy: 0.9105 - val_loss: 0.2548\n",
            "Epoch 9/10\n",
            "\u001b[1m63/63\u001b[0m \u001b[32m━━━━━━━━━━━━━━━━━━━━\u001b[0m\u001b[37m\u001b[0m \u001b[1m0s\u001b[0m 6ms/step - accuracy: 0.9007 - loss: 0.2611 - val_accuracy: 0.8988 - val_loss: 0.2455\n",
            "Epoch 10/10\n",
            "\u001b[1m63/63\u001b[0m \u001b[32m━━━━━━━━━━━━━━━━━━━━\u001b[0m\u001b[37m\u001b[0m \u001b[1m0s\u001b[0m 5ms/step - accuracy: 0.9050 - loss: 0.2361 - val_accuracy: 0.9261 - val_loss: 0.2251\n"
          ]
        },
        {
          "data": {
            "text/plain": [
              "<keras.src.callbacks.history.History at 0x7905cc691b10>"
            ]
          },
          "execution_count": 11,
          "metadata": {},
          "output_type": "execute_result"
        }
      ],
      "source": [
        "model.fit(X_train,y_train,epochs=10,validation_data=(X_test,y_test))"
      ]
    },
    {
      "cell_type": "code",
      "execution_count": null,
      "metadata": {
        "colab": {
          "base_uri": "https://localhost:8080/"
        },
        "id": "rJbrS_ckX7oY",
        "outputId": "da364a70-af95-463d-a42f-bac167b863e8"
      },
      "outputs": [
        {
          "name": "stdout",
          "output_type": "stream",
          "text": [
            "\u001b[1m17/17\u001b[0m \u001b[32m━━━━━━━━━━━━━━━━━━━━\u001b[0m\u001b[37m\u001b[0m \u001b[1m0s\u001b[0m 3ms/step - accuracy: 0.9111 - loss: 0.2423 \n"
          ]
        }
      ],
      "source": [
        "sloss,acc = model.evaluate(X_test,y_test)\n"
      ]
    },
    {
      "cell_type": "code",
      "execution_count": null,
      "metadata": {},
      "outputs": [],
      "source": [
        "\n",
        "model.save('apple_orange_classifier.h5')\n",
        "print(\"Model saved as 'apple_orange_classifier.h5'\")\n",
        "\n",
        "model.save('apple_orange_model')\n",
        "print(\"Model saved as 'apple_orange_model' directory\")\n",
        "\n",
        "model.save_weights('model_weights.h5')\n",
        "print(\"Model weights saved as 'model_weights.h5'\")"
      ]
    }
  ],
  "metadata": {
    "accelerator": "GPU",
    "colab": {
      "gpuType": "T4",
      "provenance": []
    },
    "kernelspec": {
      "display_name": "Python 3",
      "name": "python3"
    },
    "language_info": {
      "name": "python"
    }
  },
  "nbformat": 4,
  "nbformat_minor": 0
}
